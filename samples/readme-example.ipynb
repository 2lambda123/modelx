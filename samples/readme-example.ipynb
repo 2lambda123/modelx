{
 "cells": [
  {
   "cell_type": "code",
   "execution_count": 1,
   "id": "fae2534d",
   "metadata": {},
   "outputs": [],
   "source": [
    "import modelx as mx\n",
    "import numpy as np\n",
    "\n",
    "model = mx.new_model()                  # Create a new Model named \"Model1\"\n",
    "space = model.new_space(\"MonteCarlo\")   # Create a UserSpace named \"MonteCralo\"\n",
    "\n",
    "# Define names in MonteCarlo\n",
    "space.np = np\n",
    "space.M = 10000     # Number of scenarios\n",
    "space.T = 3         # Time to maturity in years\n",
    "space.N = 36        # Number of time steps\n",
    "space.S0 = 100      # S(0): Stock price at t=0\n",
    "space.r = 0.05      # Risk Free Rate\n",
    "space.sigma = 0.2   # Volatility\n",
    "space.K = 110       # Option Strike\n",
    "\n",
    "\n",
    "# Define Cells objects from function definitions\n",
    "@mx.defcells\n",
    "def std_norm_rand():\n",
    "    gen = np.random.default_rng(1234)\n",
    "    return gen.standard_normal(size=(N, M))\n",
    "\n",
    "\n",
    "@mx.defcells\n",
    "def S(i):\n",
    "    \"\"\"Stock price at time t_i\"\"\"\n",
    "    dt = T/N; t = dt * i\n",
    "    if i == 0:\n",
    "        return np.full(shape=M, fill_value=S0)\n",
    "    else:\n",
    "        epsilon = std_norm_rand()[i-1]\n",
    "        return S(i-1) * np.exp((r - 0.5 * sigma**2) * dt + sigma * epsilon * dt**0.5)\n",
    "\n",
    "\n",
    "@mx.defcells\n",
    "def CallOption():\n",
    "    \"\"\"Call option price by Monte-Carlo\"\"\"\n",
    "    return np.average(np.maximum(S(N) - K, 0)) * np.exp(-r*T)"
   ]
  },
  {
   "cell_type": "code",
   "execution_count": 2,
   "id": "a5627ad5",
   "metadata": {},
   "outputs": [],
   "source": [
    "@mx.defcells\n",
    "def BlackScholesCall():\n",
    "    \"\"\"Call option price by Black-Scholes-Merton\"\"\"\n",
    "    from scipy.stats import norm\n",
    "    e = np.exp\n",
    "    N = norm.cdf\n",
    "\n",
    "    d1 = (np.log(S0/K) + (r + 0.5 * sigma**2) * T) / (sigma * np.sqrt(T))\n",
    "    d2 = d1 - sigma * np.sqrt(T)\n",
    "    return S0 * N(d1) - K * e(-r*T) * N(d2)  "
   ]
  },
  {
   "cell_type": "code",
   "execution_count": 3,
   "id": "4030ca6a",
   "metadata": {},
   "outputs": [
    {
     "data": {
      "text/plain": [
       "16.210871364283975"
      ]
     },
     "execution_count": 3,
     "metadata": {},
     "output_type": "execute_result"
    }
   ],
   "source": [
    "BlackScholesCall()"
   ]
  },
  {
   "cell_type": "code",
   "execution_count": 4,
   "id": "4c1a6b16",
   "metadata": {},
   "outputs": [],
   "source": [
    "space.K = 100"
   ]
  },
  {
   "cell_type": "code",
   "execution_count": 5,
   "id": "588fac0a",
   "metadata": {},
   "outputs": [
    {
     "data": {
      "text/plain": [
       "array([ 78.58406132,  59.01504804, 115.148291  , ..., 155.39335662,\n",
       "        74.7907511 , 137.82730703])"
      ]
     },
     "execution_count": 5,
     "metadata": {},
     "output_type": "execute_result"
    }
   ],
   "source": [
    "S(space.N)"
   ]
  },
  {
   "cell_type": "code",
   "execution_count": 6,
   "id": "f8db37c2",
   "metadata": {},
   "outputs": [
    {
     "data": {
      "text/plain": [
       "20.96156962064"
      ]
     },
     "execution_count": 6,
     "metadata": {},
     "output_type": "execute_result"
    }
   ],
   "source": [
    "CallOption()"
   ]
  },
  {
   "cell_type": "code",
   "execution_count": 7,
   "id": "c1398e44",
   "metadata": {},
   "outputs": [],
   "source": [
    "space.parameters = (\"r\", \"sigma\")"
   ]
  },
  {
   "cell_type": "code",
   "execution_count": 8,
   "id": "65472452",
   "metadata": {},
   "outputs": [
    {
     "data": {
      "text/plain": [
       "14.812014828333284"
      ]
     },
     "execution_count": 8,
     "metadata": {},
     "output_type": "execute_result"
    }
   ],
   "source": [
    "space[0.03, 0.15].CallOption()"
   ]
  },
  {
   "cell_type": "code",
   "execution_count": 9,
   "id": "4b8c31e0",
   "metadata": {},
   "outputs": [
    {
     "data": {
      "text/plain": [
       "33.90481014639403"
      ]
     },
     "execution_count": 9,
     "metadata": {},
     "output_type": "execute_result"
    }
   ],
   "source": [
    "space[0.06, 0.4].CallOption()"
   ]
  }
 ],
 "metadata": {
  "kernelspec": {
   "display_name": "Python 3 (ipykernel)",
   "language": "python",
   "name": "python3"
  },
  "language_info": {
   "codemirror_mode": {
    "name": "ipython",
    "version": 3
   },
   "file_extension": ".py",
   "mimetype": "text/x-python",
   "name": "python",
   "nbconvert_exporter": "python",
   "pygments_lexer": "ipython3",
   "version": "3.9.7"
  }
 },
 "nbformat": 4,
 "nbformat_minor": 5
}
